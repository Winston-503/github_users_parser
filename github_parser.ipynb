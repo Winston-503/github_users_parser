{
 "cells": [
  {
   "cell_type": "markdown",
   "id": "6d658fe2",
   "metadata": {},
   "source": [
    "# GitHub users parser\n",
    "\n",
    "Originally published in https://gitlab.com/Winston-90/github_users_parser"
   ]
  },
  {
   "cell_type": "markdown",
   "id": "011ade95",
   "metadata": {},
   "source": [
    "## Imports"
   ]
  },
  {
   "cell_type": "code",
   "execution_count": 1,
   "id": "26161ff3",
   "metadata": {
    "ExecuteTime": {
     "end_time": "2022-01-22T20:20:18.503336Z",
     "start_time": "2022-01-22T20:20:18.115138Z"
    }
   },
   "outputs": [],
   "source": [
    "import pandas as pd\n",
    "from github import Github"
   ]
  },
  {
   "cell_type": "markdown",
   "id": "e29e27bd",
   "metadata": {},
   "source": [
    "## GitHubUsersParser() class"
   ]
  },
  {
   "cell_type": "code",
   "execution_count": 2,
   "id": "b9c74c4a",
   "metadata": {
    "ExecuteTime": {
     "end_time": "2022-01-22T20:20:18.533893Z",
     "start_time": "2022-01-22T20:20:18.503336Z"
    }
   },
   "outputs": [],
   "source": [
    "class GitHubUsersParser:\n",
    "    \"\"\" \n",
    "    A class that represents parser to get information about GitHub users\n",
    "    Create an instance of the class by providing information about your token\n",
    "    and call parse_users() method with needed parameters\n",
    "\n",
    "    >>> gup = GitHubUsersParser(token, is_path=False)\n",
    "    >>> gup.parse_users(...)\n",
    "\n",
    "    See methods documentation for more information\n",
    "    \"\"\"\n",
    "\n",
    "    def __init__(self, token_or_path, is_path=True):\n",
    "        \"\"\" \n",
    "        Create PyGithub Github() object to request information \n",
    "\n",
    "        Parameters:\n",
    "            token_or_path (str): access token or path to .txt file \n",
    "                that contains it.\n",
    "                To get the token, visit: https://github.com/settings/tokens\n",
    "            is_path (bool): if true, 'token_or_path' must be path \n",
    "                to .txt file containing access token. \n",
    "                If false 'token_or_path' must be access token\n",
    "        \"\"\"\n",
    "\n",
    "        # array of dict with fields:\n",
    "        # ['repo_html_url', 'repo_language', 'user_html_url', 'name', 'company',\n",
    "        #  'location', 'email', 'hireable', 'public_repos', 'followers']\n",
    "        self.users = []\n",
    "\n",
    "        if not is_path:\n",
    "            access_token = token_or_path\n",
    "        else:\n",
    "            # reading text file\n",
    "            try:\n",
    "                f = open(token_or_path, 'r')\n",
    "                access_token = f.read()\n",
    "            except OSError:\n",
    "                print(f\"Could not open/read file: {token_or_path}.\")\n",
    "                return\n",
    "\n",
    "        print(\"Your access token was successfully read\")\n",
    "        self.g = Github(access_token)\n",
    "\n",
    "        # test query to check if token is correct\n",
    "        try:\n",
    "            repo = self.g.get_repo(\"PyGithub/PyGithub\")\n",
    "        except Exception as e:\n",
    "            print(\"An error occurred while executing the test query.\\n\" +\n",
    "                  \"Most likely your token is incorrect or expired.\")\n",
    "            print(\"Error: \" + str(e))\n",
    "            return\n",
    "\n",
    "        print(\"The test request was successfully executed\")\n",
    "\n",
    "    def __add_to_users(self, user, repo):\n",
    "        \"\"\" \n",
    "        Private method to append information about 'user' and 'repo' \n",
    "        into 'users' list\n",
    "\n",
    "        Parameters:\n",
    "            user (PyGithub NamedUser): user object received \n",
    "                for example using g.get_user()\n",
    "            repo (PyGithub Repository): repository object received \n",
    "                for example using g.get_repo()\n",
    "        \"\"\"\n",
    "\n",
    "        data = {'repo_html_url': repo.html_url,\n",
    "                'repo_language': repo.language,\n",
    "                'user_html_url': user.html_url,\n",
    "                'name': user.name,\n",
    "                'company': user.company,\n",
    "                'location': user.location,\n",
    "                'email': user.email,\n",
    "                'hireable': user.hireable,\n",
    "                'public_repos': user.public_repos,\n",
    "                'followers': user.followers}\n",
    "\n",
    "        self.users.append(data)\n",
    "\n",
    "    def __save_users(self, filename, test=False):\n",
    "        \"\"\" \n",
    "        Private method to save information about 'users' into file\n",
    "\n",
    "        Parameters:\n",
    "            filename (str): filename to save including extension (.xlsx or .csv)\n",
    "            test (bool): if True provide test save to check that filename is valid\n",
    "\n",
    "        Returns:\n",
    "            -1 if an error occurred while saving the file,\n",
    "            otherwise - None \n",
    "        \"\"\"\n",
    "\n",
    "        if filename[-3:] == 'csv':\n",
    "            to_csv = True\n",
    "        elif filename[-4:] == 'xlsx':\n",
    "            to_csv = False\n",
    "        else:\n",
    "            print(\"Unsupported file format. \" +\n",
    "                  \"'filename_to_save' must have an .xlsx or .csv extension\")\n",
    "            return -1\n",
    "\n",
    "        if test:\n",
    "            try:\n",
    "                if to_csv:\n",
    "                    pd.DataFrame().to_csv(filename, index=False)\n",
    "                else:\n",
    "                    pd.DataFrame().to_excel(filename, index=False)\n",
    "            except Exception as e:\n",
    "                print(\"An error occurred while saving a file.\\n\" +\n",
    "                      \"Check 'filename_to_save'.\")\n",
    "                print(\"Error: \" + str(e))\n",
    "                return -1\n",
    "\n",
    "            print(\"The test saving was successfully executed.\")\n",
    "            return\n",
    "\n",
    "        # define DataFrame from list of dict\n",
    "        users_df = pd.DataFrame(\n",
    "            self.users,\n",
    "            columns=['repo_html_url', 'repo_language',\n",
    "                     'user_html_url', 'name', 'company', 'location',\n",
    "                     'email', 'hireable', 'public_repos', 'followers'])\n",
    "\n",
    "        # filling missing values with space to sort Excel table\n",
    "        users_df.fillna(' ', inplace=True)\n",
    "\n",
    "        # save file\n",
    "        if to_csv:\n",
    "            users_df.to_csv(filename, index=False)\n",
    "        else:\n",
    "            users_df.to_excel(filename, index=False)\n",
    "\n",
    "        print(f\"\\nData about users was saved into '{filename}' \" +\n",
    "              f\"file ({users_df.shape[0]} rows).\")\n",
    "\n",
    "    def parse_users(self, query, keywords, max_count, filename):\n",
    "        \"\"\" \n",
    "        Parse GitHub users with set parameters\n",
    "        Save information about users into table when the number \n",
    "        of users reaches the desired number or when an error occurs\n",
    "\n",
    "        Parameters:\n",
    "            query (str): query without keywords. See https://github.com/search/advanced\n",
    "            keywords (list of str): list of keywords to search\n",
    "            max_count (int): the desired number of users to get\n",
    "            filename (str): filename to save resulting data including extension (.xlsx or .csv)\n",
    "        \"\"\"\n",
    "\n",
    "        self.users = []\n",
    "        count = 0\n",
    "\n",
    "        # test saving to check that filename is valid\n",
    "        if self.__save_users(filename, test=True) == -1:\n",
    "            # error saving the file\n",
    "            return\n",
    "\n",
    "        if not isinstance(max_count, int) or max_count <= 0:\n",
    "            print(\"'max_count' must be positive integer\")\n",
    "            return\n",
    "\n",
    "        print(\"\\nStart parsing with the following parameters:\\n\" +\n",
    "              f\"\\tquery = '{query}'\\n\" +\n",
    "              f\"\\tkeywords = {keywords}\\n\" +\n",
    "              f\"\\tmax_count = {max_count}\\n\" +\n",
    "              f\"\\tfilename = '{filename}'\\n\")\n",
    "\n",
    "        # for all users from the request response\n",
    "        for user in self.g.search_users(query=query):\n",
    "            try:\n",
    "                # at least one of repos contains a keyword\n",
    "                for repo in user.get_repos():\n",
    "                    # form repo_string as repo name and description\n",
    "                    description_str = repo.description if repo.description else ''\n",
    "                    repo_string = repo.name + ' ' + description_str\n",
    "                    \n",
    "                    # without keywords\n",
    "                    if not keywords:\n",
    "                        # add this user in the result table\n",
    "                        self.__add_to_users(user, repo)\n",
    "                        count += 1\n",
    "                        print(f\"{count}/{max_count} - add {user.name}\")\n",
    "                        # go to the next user\n",
    "                        break\n",
    "\n",
    "                    # if any keyword is contained in any users repository\n",
    "                    if any(keyword in repo_string for keyword in keywords):\n",
    "                        # add this user in the result table\n",
    "                        self.__add_to_users(user, repo)\n",
    "                        count += 1\n",
    "                        print(f\"{count}/{max_count} - add {user.name}\")\n",
    "                        # go to the next user\n",
    "                        break\n",
    "\n",
    "            except Exception as e:\n",
    "                print(\"An error occurred while executing the query\")\n",
    "                print(\"Error: \" + str(e))\n",
    "                self.__save_users(filename)\n",
    "                return\n",
    "\n",
    "            if count == max_count:\n",
    "                self.__save_users(filename)\n",
    "                return"
   ]
  },
  {
   "cell_type": "markdown",
   "id": "fe17f5e9",
   "metadata": {},
   "source": [
    "# Setting parameters"
   ]
  },
  {
   "cell_type": "code",
   "execution_count": 3,
   "id": "c350f8a5",
   "metadata": {
    "ExecuteTime": {
     "end_time": "2022-01-22T20:20:18.549606Z",
     "start_time": "2022-01-22T20:20:18.535923Z"
    }
   },
   "outputs": [],
   "source": [
    "# access token or path to .txt file that contains it\n",
    "# To get the token, visit: https://github.com/settings/tokens\n",
    "token_or_path = 'data/access_tokens/access_token.txt'            \n",
    "    \n",
    "# if True, 'token_or_path' must be path to .txt file containing access token\n",
    "# if False, 'token_or_path' must be access token\n",
    "is_path = True\n",
    "\n",
    "# or set your access token explicitly\n",
    "# token_or_path = \"IppbRe4dzGv5a5WQNffbNXRY2gASYLaE26h8CVjZc\"\n",
    "# is_path = False\n",
    "\n",
    "# query without keywords\n",
    "# see https://github.com/search/advanced\n",
    "query = \"language:python location:USA\"\n",
    "\n",
    "# the desired number of users to get\n",
    "max_count = 5\n",
    "\n",
    "# list of keywords to search\n",
    "# ['keyword1', 'keyword2', 'keyword3']\n",
    "keywords_list = ['django', 'flask']\n",
    "\n",
    "# filename to save resulting data including extension (.xlsx or .csv)\n",
    "filename_to_save = 'data/users.xlsx'"
   ]
  },
  {
   "cell_type": "markdown",
   "id": "02841045",
   "metadata": {
    "ExecuteTime": {
     "end_time": "2022-01-14T17:17:59.649743Z",
     "start_time": "2022-01-14T17:17:59.625739Z"
    }
   },
   "source": [
    "# Main program"
   ]
  },
  {
   "cell_type": "code",
   "execution_count": 4,
   "id": "2a021b89",
   "metadata": {
    "ExecuteTime": {
     "end_time": "2022-01-22T20:20:18.768963Z",
     "start_time": "2022-01-22T20:20:18.550591Z"
    }
   },
   "outputs": [
    {
     "name": "stdout",
     "output_type": "stream",
     "text": [
      "Your access token was successfully read\n",
      "The test request was successfully executed\n"
     ]
    }
   ],
   "source": [
    "# create class instance using access token\n",
    "github_parser = GitHubUsersParser(token_or_path, is_path)"
   ]
  },
  {
   "cell_type": "code",
   "execution_count": 5,
   "id": "c69549d7",
   "metadata": {
    "ExecuteTime": {
     "end_time": "2022-01-22T20:20:28.458549Z",
     "start_time": "2022-01-22T20:20:18.769914Z"
    }
   },
   "outputs": [
    {
     "name": "stdout",
     "output_type": "stream",
     "text": [
      "The test saving was successfully executed.\n",
      "\n",
      "Start parsing with the following parameters:\n",
      "\tquery = 'language:python location:USA'\n",
      "\tkeywords = ['django', 'flask']\n",
      "\tmax_count = 5\n",
      "\tfilename = 'data/users.xlsx'\n",
      "\n",
      "1/5 - add Kenneth Reitz\n",
      "2/5 - add Dennis Ivy\n",
      "3/5 - add Bruce Eckel\n",
      "4/5 - add Andrew Godwin\n",
      "5/5 - add Timothee \"TTimo\" Besset\n",
      "\n",
      "Data about users was saved into 'data/users.xlsx' file (5 rows).\n"
     ]
    }
   ],
   "source": [
    "# parsing with set parameters\n",
    "github_parser.parse_users(query=query, \n",
    "                          keywords=keywords_list, \n",
    "                          max_count=max_count, \n",
    "                          filename=filename_to_save)"
   ]
  },
  {
   "cell_type": "code",
   "execution_count": null,
   "id": "be581bae",
   "metadata": {},
   "outputs": [],
   "source": []
  }
 ],
 "metadata": {
  "kernelspec": {
   "display_name": "Python 3 (ipykernel)",
   "language": "python",
   "name": "python3"
  },
  "language_info": {
   "codemirror_mode": {
    "name": "ipython",
    "version": 3
   },
   "file_extension": ".py",
   "mimetype": "text/x-python",
   "name": "python",
   "nbconvert_exporter": "python",
   "pygments_lexer": "ipython3",
   "version": "3.9.7"
  }
 },
 "nbformat": 4,
 "nbformat_minor": 5
}
