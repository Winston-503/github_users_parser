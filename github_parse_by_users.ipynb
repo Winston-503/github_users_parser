{
 "cells": [
  {
   "cell_type": "markdown",
   "id": "011ade95",
   "metadata": {},
   "source": [
    "## Imports"
   ]
  },
  {
   "cell_type": "code",
   "execution_count": 1,
   "id": "26161ff3",
   "metadata": {
    "ExecuteTime": {
     "end_time": "2022-01-14T17:39:51.501823Z",
     "start_time": "2022-01-14T17:39:51.099657Z"
    }
   },
   "outputs": [],
   "source": [
    "import requests\n",
    "from github import Github\n",
    "\n",
    "import pandas as pd"
   ]
  },
  {
   "cell_type": "markdown",
   "id": "e29e27bd",
   "metadata": {},
   "source": [
    "## GitHubUsersParser() class"
   ]
  },
  {
   "cell_type": "code",
   "execution_count": 26,
   "id": "b9c74c4a",
   "metadata": {
    "ExecuteTime": {
     "end_time": "2022-01-14T17:43:59.396520Z",
     "start_time": "2022-01-14T17:43:59.375215Z"
    }
   },
   "outputs": [],
   "source": [
    "class GitHubUsersParser():\n",
    "\n",
    "    def __init__(self):\n",
    "        pass\n",
    "\n",
    "    def connect(self, token_or_path, is_path=True):\n",
    "        \"\"\" \n",
    "        Create Github() object to request information \n",
    "\n",
    "        Parameters:\n",
    "            token_or_path (str): access token or path to .txt file where it is\n",
    "                specified. To know more, visit: https://github.com/settings/tokens\n",
    "            is_path (bool): if true, 'token_or_path' must be path to txt file\n",
    "                containing access token. If false 'token_or_path' is access token\n",
    "        \"\"\"\n",
    "\n",
    "        if not is_path:\n",
    "            access_token = token_or_path\n",
    "        else:\n",
    "            try:\n",
    "                f = open(token_or_path, 'r')\n",
    "                access_token = f.read()\n",
    "            except OSError:\n",
    "                print(f\"Could not open/read file: {token_or_path}.\")\n",
    "                return None\n",
    "\n",
    "        print(\"Your access token was successfully read\")\n",
    "        self.g = Github(access_token)\n",
    "\n",
    "        # test query\n",
    "        try:\n",
    "            repo = self.g.get_repo(\"PyGithub/PyGithub\")\n",
    "        except Exception as e:\n",
    "            print(\"An error occurred while executing the test query.\\n\" +\n",
    "                  \"Most likely your token is incorrect or expired.\")\n",
    "            print(\"Error: \" + str(e))\n",
    "            return None\n",
    "\n",
    "        print(\"The test request was successfully executed\")\n",
    "\n",
    "    def add_to_users(self, user, repo):\n",
    "        \"\"\" Append information about 'user' and 'repo' into 'users' list \"\"\"\n",
    "\n",
    "        try:\n",
    "            self.users\n",
    "        except AttributeError:\n",
    "            print(\"Calling add_to_users() function \" +\n",
    "                  \"before defining 'users' variable\\n\" +\n",
    "                  \"Call parse_users() function instead \" +\n",
    "                  \"or define 'users' variable explicitly\")\n",
    "            return None\n",
    "\n",
    "        data = {'repo_html_url': repo.html_url,\n",
    "                'repo_language': repo.language,\n",
    "                'user_html_url': user.html_url,\n",
    "                'name': user.name,\n",
    "                'company': user.company,\n",
    "                'location': user.location,\n",
    "                'email': user.email,\n",
    "                'hireable': user.hireable,\n",
    "                'public_repos': user.public_repos,\n",
    "                'followers': user.followers}\n",
    "\n",
    "        self.users.append(data)\n",
    "\n",
    "    def save_users_to_xlsx(self, filename):\n",
    "        \"\"\" \n",
    "        Save information about 'users' into Excel file\n",
    "\n",
    "        Parameters:\n",
    "            filename (str): filename to save including extension (.xlsx)\n",
    "        \"\"\"\n",
    "\n",
    "        try:\n",
    "            self.users\n",
    "        except AttributeError:\n",
    "            print(\"Calling save_users_to_xlsx() function \" +\n",
    "                  \"before defining 'users' variable\\n\" +\n",
    "                  \"Call parse_users() function instead \" +\n",
    "                  \"or define 'users' variable explicitly\")\n",
    "            return None\n",
    "\n",
    "        # define DataFrame from list of dict\n",
    "        users_df = pd.DataFrame(\n",
    "            self.users,\n",
    "            columns=['repo_html_url', 'repo_language',\n",
    "                     'user_html_url', 'name', 'company', 'location',\n",
    "                     'email', 'hireable', 'public_repos', 'followers']\n",
    "        )\n",
    "        \n",
    "        # filling missing values with space to sort Excel table\n",
    "        users_df.fillna(' ', inplace=True)\n",
    "\n",
    "        # save file\n",
    "        users_df.to_excel(filename, index=False)\n",
    "\n",
    "        print(f\"Data about users was saved into '{filename}' \" +\n",
    "              f\"file ({users_df.shape[0]} rows).\")\n",
    "\n",
    "    def parse_users(self, query, keywords, max_count, filename):\n",
    "        \"\"\" \n",
    "        Parse GitHub users with set parameters. \n",
    "        Save information about users into Excel table.\n",
    "\n",
    "        Parameters:\n",
    "\n",
    "\n",
    "\n",
    "        \"\"\"\n",
    "\n",
    "        try:\n",
    "            self.g\n",
    "        except AttributeError:\n",
    "            print(\"Calling parse_users() function \" +\n",
    "                  \"before defining 'g' variable\\n\" +\n",
    "                  \"Call connect() function first.\")\n",
    "            return None\n",
    "\n",
    "        print(\"Start parsing with the following parameters:\\n\" +\n",
    "              f\"query = '{query}'\\n\" +\n",
    "              f\"keywords = {keywords}\\n\" +\n",
    "              f\"max_count = {max_count}\\n\" +\n",
    "              f\"filename = '{filename}'\\n\")\n",
    "\n",
    "        # array of dict with fields:\n",
    "        # ['repo_html_url', 'repo_language', 'user_html_url', 'name', 'company',\n",
    "        #  'location', 'email', 'hireable', 'public_repos', 'followers']\n",
    "        self.users = []\n",
    "        count = 0\n",
    "\n",
    "        # for all users with query\n",
    "        for user in self.g.search_users(query=query):\n",
    "            try:\n",
    "                # at least one of repos contain keyword\n",
    "                for repo in user.get_repos():\n",
    "                    # form repo_string as repo name and description\n",
    "                    description_str = repo.description if repo.description else ''\n",
    "                    repo_string = repo.name + ' ' + description_str\n",
    "\n",
    "                    # if any keyword is in any users repository\n",
    "                    if any(keyword in repo_string for keyword in keywords):\n",
    "                        # add this user in result table\n",
    "                        self.add_to_users(user, repo)\n",
    "                        count += 1\n",
    "                        print(f\"{count}/{max_count} - add {user.name}\")\n",
    "                        # self.save_users_to_xlsx(filename)\n",
    "                        break\n",
    "\n",
    "            except Exception as e:\n",
    "                print(\"An error occurred while executing the query\")\n",
    "                print(\"Error: \" + str(e))\n",
    "\n",
    "                self.save_users_to_xlsx(filename)\n",
    "                return\n",
    "\n",
    "            if count == max_count:\n",
    "                self.save_users_to_xlsx(filename)\n",
    "                return"
   ]
  },
  {
   "cell_type": "markdown",
   "id": "fe17f5e9",
   "metadata": {},
   "source": [
    "# Setting parameters"
   ]
  },
  {
   "cell_type": "code",
   "execution_count": 27,
   "id": "c350f8a5",
   "metadata": {
    "ExecuteTime": {
     "end_time": "2022-01-14T17:44:00.271617Z",
     "start_time": "2022-01-14T17:44:00.260646Z"
    }
   },
   "outputs": [],
   "source": [
    "access_token_path = 'data/access_token.txt'\n",
    "is_path = True\n",
    "# or set your access token explicitely\n",
    "# access_token_path = \"IppbRe4dzGv5a5WQNffbNXRY2gASYLaE26h8CVjZc\"\n",
    "# is_path = False"
   ]
  },
  {
   "cell_type": "code",
   "execution_count": 28,
   "id": "6b310ae8",
   "metadata": {
    "ExecuteTime": {
     "end_time": "2022-01-14T17:44:00.761895Z",
     "start_time": "2022-01-14T17:44:00.753944Z"
    }
   },
   "outputs": [],
   "source": [
    "# query without keywords\n",
    "# see https://github.com/search/advanced\n",
    "query = \"language:python location:Moscow\"\n",
    "\n",
    "# result number of users\n",
    "max_count = 5\n",
    "\n",
    "# python list of keywords to search\n",
    "# ['keyword1', 'keyword2', 'keyword3']\n",
    "keywords_list = ['backend', 'golang', 'django', 'flask', 'fastapi', 'tornado', 'aiohttp', 'asyncio']\n",
    "\n",
    "# filename to save dataframe (including extension)\n",
    "filename_to_save = 'data/users.xlsx'"
   ]
  },
  {
   "cell_type": "markdown",
   "id": "02841045",
   "metadata": {
    "ExecuteTime": {
     "end_time": "2022-01-14T17:17:59.649743Z",
     "start_time": "2022-01-14T17:17:59.625739Z"
    }
   },
   "source": [
    "# Main "
   ]
  },
  {
   "cell_type": "code",
   "execution_count": 29,
   "id": "2a021b89",
   "metadata": {
    "ExecuteTime": {
     "end_time": "2022-01-14T17:44:01.655946Z",
     "start_time": "2022-01-14T17:44:01.641782Z"
    }
   },
   "outputs": [],
   "source": [
    "# create class instance\n",
    "github_parser = GitHubUsersParser()"
   ]
  },
  {
   "cell_type": "code",
   "execution_count": 30,
   "id": "59eabde1",
   "metadata": {
    "ExecuteTime": {
     "end_time": "2022-01-14T17:44:02.282822Z",
     "start_time": "2022-01-14T17:44:01.936917Z"
    }
   },
   "outputs": [
    {
     "name": "stdout",
     "output_type": "stream",
     "text": [
      "Your access token was successfully read\n",
      "The test request was successfully executed\n"
     ]
    }
   ],
   "source": [
    "# connect it using access token\n",
    "github_parser.connect(access_token_path, is_path)"
   ]
  },
  {
   "cell_type": "code",
   "execution_count": 31,
   "id": "c69549d7",
   "metadata": {
    "ExecuteTime": {
     "end_time": "2022-01-14T17:44:06.643119Z",
     "start_time": "2022-01-14T17:44:02.290810Z"
    }
   },
   "outputs": [
    {
     "name": "stdout",
     "output_type": "stream",
     "text": [
      "Start parsing with the following parameters:\n",
      "query = 'language:python location:Moscow'\n",
      "keywords = ['backend', 'golang', 'django', 'flask', 'fastapi', 'tornado', 'aiohttp', 'asyncio']\n",
      "max_count = 5\n",
      "filename = 'data/users.xlsx'\n",
      "\n",
      "1/5 - add Grigory Bakunov\n",
      "2/5 - add Daniil Okhlopkov\n",
      "3/5 - add Anton\n",
      "4/5 - add Kirill Klenov\n",
      "5/5 - add Alexey Goloburdin\n",
      "Data about users was saved into 'data/users.xlsx' file (5 rows).\n"
     ]
    }
   ],
   "source": [
    "# parsing with set parameters\n",
    "github_parser.parse_users(query=query, \n",
    "                          keywords=keywords_list, \n",
    "                          max_count=max_count, \n",
    "                          filename=filename_to_save)"
   ]
  },
  {
   "cell_type": "code",
   "execution_count": null,
   "id": "be581bae",
   "metadata": {},
   "outputs": [],
   "source": []
  },
  {
   "cell_type": "code",
   "execution_count": null,
   "id": "7a06c5d2",
   "metadata": {},
   "outputs": [],
   "source": []
  }
 ],
 "metadata": {
  "kernelspec": {
   "display_name": "Python 3 (ipykernel)",
   "language": "python",
   "name": "python3"
  },
  "language_info": {
   "codemirror_mode": {
    "name": "ipython",
    "version": 3
   },
   "file_extension": ".py",
   "mimetype": "text/x-python",
   "name": "python",
   "nbconvert_exporter": "python",
   "pygments_lexer": "ipython3",
   "version": "3.9.7"
  }
 },
 "nbformat": 4,
 "nbformat_minor": 5
}
